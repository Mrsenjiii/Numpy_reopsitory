{
  "nbformat": 4,
  "nbformat_minor": 0,
  "metadata": {
    "colab": {
      "provenance": [],
      "authorship_tag": "ABX9TyO2FuudfFOuJeFTLh1yr0YH",
      "include_colab_link": true
    },
    "kernelspec": {
      "name": "python3",
      "display_name": "Python 3"
    },
    "language_info": {
      "name": "python"
    }
  },
  "cells": [
    {
      "cell_type": "markdown",
      "metadata": {
        "id": "view-in-github",
        "colab_type": "text"
      },
      "source": [
        "<a href=\"https://colab.research.google.com/github/Mrsenjiii/Numpy_reopsitory/blob/main/broadcasting.ipynb\" target=\"_parent\"><img src=\"https://colab.research.google.com/assets/colab-badge.svg\" alt=\"Open In Colab\"/></a>"
      ]
    },
    {
      "cell_type": "code",
      "execution_count": null,
      "metadata": {
        "id": "-MNw7ErG-Uko",
        "colab": {
          "base_uri": "https://localhost:8080/"
        },
        "outputId": "d9ff786f-15a7-4058-8889-4602d6918dfd"
      },
      "outputs": [
        {
          "output_type": "stream",
          "name": "stdout",
          "text": [
            "0.015079736709594727\n",
            "499999\n"
          ]
        }
      ],
      "source": [
        "\n",
        "import numpy as np\n",
        "# a = list(range(10000))\n",
        "import time\n",
        "# l= list(range()10000000)\n",
        "l= list(range(1000000))\n",
        "a = time.time()\n",
        "l = l[0:len(l)//2]\n",
        "\n",
        "b = time.time()\n",
        "print(b-a)\n",
        "print(l[-1])"
      ]
    },
    {
      "cell_type": "code",
      "source": [
        "a = 14\n",
        "print(a%10)\n",
        "print(a//10)"
      ],
      "metadata": {
        "colab": {
          "base_uri": "https://localhost:8080/"
        },
        "id": "5FqwwqF_L4ey",
        "outputId": "5729cddc-f62c-4b9e-d8b7-32120a140785"
      },
      "execution_count": null,
      "outputs": [
        {
          "output_type": "stream",
          "name": "stdout",
          "text": [
            "4\n",
            "1\n"
          ]
        }
      ]
    },
    {
      "cell_type": "code",
      "source": [
        "Y = np.array([1,2,3,4,5,6])  # shape (6,) ==> (1,6) ==>   (1,6) (6,4) ==>\n",
        "X = np.ones((6,4)) # 6,4\n",
        "YX_ = Y@X      # 6,    6,4 => 1,6   6,4\n",
        "# YX_.shape\n",
        "YX_.shape\n",
        "\n",
        "# c = Y + X\n",
        "# c.shape"
      ],
      "metadata": {
        "colab": {
          "base_uri": "https://localhost:8080/",
          "height": 235
        },
        "id": "BlRDtRMwU7Ib",
        "outputId": "50071d65-7e66-4791-9641-ec6f3709cad4"
      },
      "execution_count": null,
      "outputs": [
        {
          "output_type": "error",
          "ename": "ValueError",
          "evalue": "ignored",
          "traceback": [
            "\u001b[0;31m---------------------------------------------------------------------------\u001b[0m",
            "\u001b[0;31mValueError\u001b[0m                                Traceback (most recent call last)",
            "\u001b[0;32m<ipython-input-31-59ebd2771e36>\u001b[0m in \u001b[0;36m<cell line: 6>\u001b[0;34m()\u001b[0m\n\u001b[1;32m      4\u001b[0m \u001b[0;31m# YX_.shape\u001b[0m\u001b[0;34m\u001b[0m\u001b[0;34m\u001b[0m\u001b[0m\n\u001b[1;32m      5\u001b[0m \u001b[0mYX_\u001b[0m\u001b[0;34m.\u001b[0m\u001b[0mshape\u001b[0m\u001b[0;34m\u001b[0m\u001b[0;34m\u001b[0m\u001b[0m\n\u001b[0;32m----> 6\u001b[0;31m \u001b[0mY\u001b[0m\u001b[0;34m*\u001b[0m\u001b[0mX\u001b[0m\u001b[0;34m.\u001b[0m\u001b[0mshape\u001b[0m\u001b[0;34m\u001b[0m\u001b[0;34m\u001b[0m\u001b[0m\n\u001b[0m\u001b[1;32m      7\u001b[0m \u001b[0;31m# c = Y + X\u001b[0m\u001b[0;34m\u001b[0m\u001b[0;34m\u001b[0m\u001b[0m\n\u001b[1;32m      8\u001b[0m \u001b[0;31m# c.shape\u001b[0m\u001b[0;34m\u001b[0m\u001b[0;34m\u001b[0m\u001b[0m\n",
            "\u001b[0;31mValueError\u001b[0m: operands could not be broadcast together with shapes (6,) (2,) "
          ]
        }
      ]
    },
    {
      "cell_type": "code",
      "source": [
        "b = np.array([1,2,3,5])\n",
        "c = np.ones((2,4))\n",
        "# bc  ="
      ],
      "metadata": {
        "id": "XkD7pLd_Vpdd"
      },
      "execution_count": null,
      "outputs": []
    },
    {
      "cell_type": "code",
      "source": [
        "import numpy as np\n",
        "\n",
        "A = np.array([[1, 2, 3],\n",
        "              [4, 5, 6]])\n",
        "\n",
        "B = np.array([2, 3, 4])\n",
        "b = np.array([[2,3,4] ,[2,3,4]]) # B will be converted to this\n",
        "\n",
        "C = A * B\n",
        "d = A*b\n",
        "print(A.shape, \"\\n\", B.shape)\n",
        "print(C)\n",
        "print(d)"
      ],
      "metadata": {
        "colab": {
          "base_uri": "https://localhost:8080/"
        },
        "id": "dOUZcY5_ciql",
        "outputId": "fdddeb8b-12be-47a1-ddd7-5688a81bd479"
      },
      "execution_count": null,
      "outputs": [
        {
          "output_type": "stream",
          "name": "stdout",
          "text": [
            "(2, 3) \n",
            " (3,)\n",
            "[[ 2  6 12]\n",
            " [ 8 15 24]]\n",
            "[[ 2  6 12]\n",
            " [ 8 15 24]]\n"
          ]
        }
      ]
    },
    {
      "cell_type": "code",
      "source": [
        "import numpy as np\n",
        "A = np.array([[1],\n",
        "              [2],\n",
        "              [3]])\n",
        "\n",
        "B = np.array([2, 3, 4])\n",
        "# A = (3,1)  and B  (3,)\n",
        "# B => ()\n",
        "print( \"B shape \" , B.shape )\n",
        "print( \"A shape \" , A.shape )\n",
        "print(\"after broadcasting  A and B will be of shape  ( 3,1 ) , (1,3)\" ) # now we can perform multiplication\n",
        "C = A * B\n",
        "\n",
        "print(C)"
      ],
      "metadata": {
        "colab": {
          "base_uri": "https://localhost:8080/"
        },
        "id": "_r3GQ33Ie6oH",
        "outputId": "293f11bc-ea42-4607-ee25-039f2c178a4c"
      },
      "execution_count": null,
      "outputs": [
        {
          "output_type": "stream",
          "name": "stdout",
          "text": [
            "B shape  (3,)\n",
            "A shape  (3, 1)\n",
            "[[ 2  3  4]\n",
            " [ 4  6  8]\n",
            " [ 6  9 12]]\n"
          ]
        }
      ]
    },
    {
      "cell_type": "code",
      "source": [
        "import numpy as np\n",
        "\n",
        "A = np.array([[1, 2, 3],\n",
        "              [4, 5, 6]])\n",
        "\n",
        "B = np.array([[2],\n",
        "              [3]])\n",
        "print( \"B shape \" , B.shape )\n",
        "print( \"A shape \" , A.shape )\n",
        "print(\"after broadcasting B will be of shape (2,3 )\")\n",
        "C = A * B\n",
        "\n",
        "print(C)\n",
        "print(A+B)\n"
      ],
      "metadata": {
        "colab": {
          "base_uri": "https://localhost:8080/"
        },
        "id": "mromBmOChiqG",
        "outputId": "a50141c8-55d9-4bdb-9905-03e61f65cd3f"
      },
      "execution_count": null,
      "outputs": [
        {
          "output_type": "stream",
          "name": "stdout",
          "text": [
            "B shape  (2, 1)\n",
            "A shape  (2, 3)\n",
            "after broadcasting B will be of shape (2,3 )\n",
            "[[ 2  4  6]\n",
            " [12 15 18]]\n",
            "[[3 4 5]\n",
            " [7 8 9]]\n"
          ]
        }
      ]
    },
    {
      "cell_type": "code",
      "source": [
        "a = np.ones((3,3))\n",
        "b = np.ones((3,3))\n",
        "c = 3*a\n",
        "\n",
        "ele_wise = a@b\n",
        "mat_mul = np.dot(a,c)\n",
        "\n",
        "print( ele_wise , mat_mul)"
      ],
      "metadata": {
        "colab": {
          "base_uri": "https://localhost:8080/"
        },
        "id": "dzXG8T21ip6G",
        "outputId": "a418dcb5-6446-4ab9-c420-4177bf3347fd"
      },
      "execution_count": null,
      "outputs": [
        {
          "output_type": "stream",
          "name": "stdout",
          "text": [
            "[[3. 3. 3.]\n",
            " [3. 3. 3.]\n",
            " [3. 3. 3.]] [[9. 9. 9.]\n",
            " [9. 9. 9.]\n",
            " [9. 9. 9.]]\n"
          ]
        }
      ]
    },
    {
      "cell_type": "code",
      "source": [],
      "metadata": {
        "id": "yRG0huFuqX7y"
      },
      "execution_count": null,
      "outputs": []
    }
  ]
}