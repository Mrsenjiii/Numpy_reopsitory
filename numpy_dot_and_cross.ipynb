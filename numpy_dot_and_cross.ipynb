{
  "nbformat": 4,
  "nbformat_minor": 0,
  "metadata": {
    "colab": {
      "private_outputs": true,
      "provenance": [],
      "authorship_tag": "ABX9TyMHVLWmISVK4ddjhyA3HMaX",
      "include_colab_link": true
    },
    "kernelspec": {
      "name": "python3",
      "display_name": "Python 3"
    },
    "language_info": {
      "name": "python"
    }
  },
  "cells": [
    {
      "cell_type": "markdown",
      "metadata": {
        "id": "view-in-github",
        "colab_type": "text"
      },
      "source": [
        "<a href=\"https://colab.research.google.com/github/Mrsenjiii/Numpy_reopsitory/blob/main/numpy_dot_and_cross.ipynb\" target=\"_parent\"><img src=\"https://colab.research.google.com/assets/colab-badge.svg\" alt=\"Open In Colab\"/></a>"
      ]
    },
    {
      "cell_type": "code",
      "execution_count": null,
      "metadata": {
        "id": "vXbLRRZxiAUH"
      },
      "outputs": [],
      "source": [
        "import numpy as np\n",
        "\n",
        "A = np.array([[1, 1, 2, 3],\n",
        "              [4, 5, 1, 4],\n",
        "              [1, 9, 10, 11]])\n",
        "\n",
        "print(A.sum(axis = 0))"
      ]
    },
    {
      "cell_type": "code",
      "source": [
        "A = np.array((([1,2,3])))\n",
        "B = np.array((([1,2,3])))\n",
        "\n",
        "# np.dot(A,B)\n",
        "np.sum(A*B)\n",
        "print(A@B)"
      ],
      "metadata": {
        "id": "h7o2HLDviBN_"
      },
      "execution_count": null,
      "outputs": []
    },
    {
      "cell_type": "code",
      "source": [
        "import numpy as np\n",
        "x = np.array([1, 2, 3])\n",
        "y = np.array([4, 5, 6])\n",
        "print(x @ y)"
      ],
      "metadata": {
        "id": "hpwQZFsEiSl-"
      },
      "execution_count": null,
      "outputs": []
    },
    {
      "cell_type": "code",
      "source": [
        "a = np.linspace(1,10 , 10)\n",
        "a"
      ],
      "metadata": {
        "id": "uk4ftHQcjCFl"
      },
      "execution_count": null,
      "outputs": []
    },
    {
      "cell_type": "code",
      "source": [
        "import numpy as np\n",
        "\n",
        "A = np.array([[1, 2, 3],\n",
        "              [4, 5, 6]])\n",
        "\n",
        "b = np.array([1, 2, 3])\n",
        "\n",
        "result = A*b\n",
        "print(result)"
      ],
      "metadata": {
        "id": "OW-WctsDkCAu"
      },
      "execution_count": null,
      "outputs": []
    },
    {
      "cell_type": "code",
      "source": [
        "e = np.ones(33)\n",
        "e.shape"
      ],
      "metadata": {
        "id": "K2VCFuZsswxC"
      },
      "execution_count": null,
      "outputs": []
    },
    {
      "cell_type": "code",
      "source": [
        "f = np.array([1,2,3,4,5,6]).shape\n",
        "f"
      ],
      "metadata": {
        "id": "-pY-yQk4v9vC"
      },
      "execution_count": null,
      "outputs": []
    },
    {
      "cell_type": "code",
      "source": [
        "a = np.ones((2,2))\n",
        "print(a)\n",
        "b = np.ones((2,2))\n",
        "print(np.size(b))\n",
        "\n",
        "a = a * 2\n",
        "b = b*4\n",
        "a*b"
      ],
      "metadata": {
        "id": "Xt2kgYphxKRP"
      },
      "execution_count": null,
      "outputs": []
    },
    {
      "cell_type": "code",
      "source": [],
      "metadata": {
        "id": "VLUhqLBT3OBs"
      },
      "execution_count": null,
      "outputs": []
    }
  ]
}